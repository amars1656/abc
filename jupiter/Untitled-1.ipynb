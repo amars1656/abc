{
 "cells": [
  {
   "cell_type": "code",
   "execution_count": 8,
   "metadata": {},
   "outputs": [
    {
     "name": "stdout",
     "output_type": "stream",
     "text": [
      " |  | \n",
      " |  | \n",
      " |  | \n"
     ]
    }
   ],
   "source": [
    "def displayboard(board):\n",
    "    print(board[7]+\" | \"+board[8]+\" | \"+board[9])\n",
    "    print(board[4]+\" | \"+board[5]+\" | \"+board[6])\n",
    "    print(board[1]+\" | \"+board[2]+\" | \"+board[3])\n",
    "\n",
    "testboard=['']*10\n",
    "displayboard(testboard)   "
   ]
  },
  {
   "cell_type": "code",
   "execution_count": null,
   "metadata": {},
   "outputs": [],
   "source": []
  }
 ],
 "metadata": {
  "interpreter": {
   "hash": "21f0189580c05f8a7b7c3958b21136d510c5f4d8cb9167799430834cfbfd6059"
  },
  "kernelspec": {
   "display_name": "Python 3.8.8 64-bit ('base': conda)",
   "name": "python3"
  },
  "language_info": {
   "codemirror_mode": {
    "name": "ipython",
    "version": 3
   },
   "file_extension": ".py",
   "mimetype": "text/x-python",
   "name": "python",
   "nbconvert_exporter": "python",
   "pygments_lexer": "ipython3",
   "version": "3.8.8"
  },
  "orig_nbformat": 4
 },
 "nbformat": 4,
 "nbformat_minor": 2
}
